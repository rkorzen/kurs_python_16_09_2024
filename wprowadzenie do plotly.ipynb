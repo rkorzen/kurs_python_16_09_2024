{
 "cells": [
  {
   "cell_type": "markdown",
   "id": "24436cb3",
   "metadata": {},
   "source": [
    "# Wprowadzenie do Plotly\n",
    "\n",
    "## 1. Czym jest Plotly?\n",
    "\n",
    "Plotly to biblioteka Pythona służąca do tworzenia interaktywnych wykresów i wizualizacji danych. Umożliwia tworzenie wysokiej jakości wykresów, które można łatwo udostępniać i osadzać w aplikacjach internetowych. Plotly oferuje szeroką gamę typów wykresów, w tym wykresy liniowe, słupkowe, punktowe, mapy cieplne, wykresy 3D i wiele innych.\n",
    "\n",
    "## 2. Instalacja Plotly\n",
    "\n",
    "Aby zainstalować Plotly, możesz użyć pip:\n",
    "\n",
    "```bash\n",
    "pip install plotly\n",
    "```\n",
    "\n",
    "Jeśli korzystasz z Jupyter Notebook, zalecane jest również zainstalowanie `jupyterlab` i `ipywidgets`:\n",
    "\n",
    "```bash\n",
    "pip install jupyterlab \"ipywidgets>=7.5\"\n",
    "```"
   ]
  },
  {
   "cell_type": "markdown",
   "id": "7b57a76a",
   "metadata": {},
   "source": [
    "## 3. Podstawy korzystania z Plotly\n",
    "\n",
    "Plotly oferuje dwa główne interfejsy:\n",
    "\n",
    "- **Plotly Express**: Wysokopoziomowy interfejs do szybkiego tworzenia wykresów.\n",
    "- **Graph Objects**: Niskopoziomowy interfejs dający pełną kontrolę nad każdym aspektem wykresu.\n",
    "\n",
    "### 3.1. Importowanie biblioteki\n",
    "\n",
    "Standardowo importujemy Plotly Express jako `px`:"
   ]
  },
  {
   "cell_type": "code",
   "execution_count": null,
   "id": "63ec98d7",
   "metadata": {},
   "outputs": [],
   "source": [
    "import plotly.express as px"
   ]
  },
  {
   "cell_type": "markdown",
   "id": "a2201654",
   "metadata": {},
   "source": [
    "Dla Graph Objects:"
   ]
  },
  {
   "cell_type": "code",
   "execution_count": null,
   "id": "c936e2fe",
   "metadata": {},
   "outputs": [],
   "source": [
    "import plotly.graph_objects as go"
   ]
  },
  {
   "cell_type": "markdown",
   "id": "a769f903",
   "metadata": {},
   "source": [
    "## 4. Tworzenie wykresów za pomocą Plotly Express\n",
    "\n",
    "### 4.1. Wykres liniowy"
   ]
  },
  {
   "cell_type": "code",
   "execution_count": null,
   "id": "8625ea7c",
   "metadata": {},
   "outputs": [],
   "source": [
    "import plotly.express as px\n",
    "import pandas as pd\n",
    "\n",
    "# Przykładowe dane\n",
    "df = pd.DataFrame({\n",
    "    'x': [1, 2, 3, 4, 5],\n",
    "    'y': [2, 3, 5, 7, 11]\n",
    "})\n",
    "\n",
    "fig = px.line(df, x='x', y='y', title='Wykres liniowy')\n",
    "fig.show()"
   ]
  },
  {
   "cell_type": "code",
   "execution_count": null,
   "id": "e2062298",
   "metadata": {},
   "outputs": [],
   "source": [
    "### 4.2. Wykres punktowy"
   ]
  },
  {
   "cell_type": "code",
   "execution_count": null,
   "id": "ecdb63d0",
   "metadata": {},
   "outputs": [],
   "source": [
    "\n",
    "fig = px.scatter(df, x='x', y='y', title='Wykres punktowy')\n",
    "fig.show()\n"
   ]
  },
  {
   "cell_type": "code",
   "execution_count": null,
   "id": "ad3b0c7f",
   "metadata": {},
   "outputs": [],
   "source": [
    "### 4.3. Wykres słupkowy"
   ]
  },
  {
   "cell_type": "code",
   "execution_count": null,
   "id": "5255b6f2",
   "metadata": {},
   "outputs": [],
   "source": [
    "\n",
    "kategorie = ['A', 'B', 'C', 'D']\n",
    "wartości = [5, 7, 3, 8]\n",
    "\n",
    "df_bar = pd.DataFrame({'Kategorie': kategorie, 'Wartości': wartości})\n",
    "\n",
    "fig = px.bar(df_bar, x='Kategorie', y='Wartości', title='Wykres słupkowy')\n",
    "fig.show()\n"
   ]
  },
  {
   "cell_type": "code",
   "execution_count": null,
   "id": "ebcd253e",
   "metadata": {},
   "outputs": [],
   "source": [
    "### 4.4. Histogram"
   ]
  },
  {
   "cell_type": "code",
   "execution_count": null,
   "id": "6c1c72fb",
   "metadata": {},
   "outputs": [],
   "source": [
    "import numpy as np\n",
    "\n",
    "dane = np.random.randn(1000)\n",
    "\n",
    "fig = px.histogram(dane, nbins=30, title='Histogram')\n",
    "fig.show()"
   ]
  },
  {
   "cell_type": "code",
   "execution_count": null,
   "id": "b2c6af26",
   "metadata": {},
   "outputs": [],
   "source": [
    "### 4.5. Wykres pudełkowy"
   ]
  },
  {
   "cell_type": "code",
   "execution_count": null,
   "id": "9165cc1f",
   "metadata": {},
   "outputs": [],
   "source": [
    "dane = [np.random.randn(100) + i for i in range(5)]\n",
    "df_box = pd.DataFrame(dane).T\n",
    "df_box.columns = ['Grupa 1', 'Grupa 2', 'Grupa 3', 'Grupa 4', 'Grupa 5']\n",
    "\n",
    "fig = px.box(df_box, title='Wykres pudełkowy')\n",
    "fig.show()"
   ]
  },
  {
   "cell_type": "code",
   "execution_count": null,
   "id": "abdaddd1",
   "metadata": {},
   "outputs": [],
   "source": [
    "### 4.6. Wykres 3D"
   ]
  },
  {
   "cell_type": "code",
   "execution_count": null,
   "id": "ceecc441",
   "metadata": {},
   "outputs": [],
   "source": [
    "import numpy as np\n",
    "\n",
    "x = np.random.randn(100)\n",
    "y = np.random.randn(100)\n",
    "z = np.random.randn(100)\n",
    "\n",
    "df_3d = pd.DataFrame({'x': x, 'y': y, 'z': z})\n",
    "\n",
    "fig = px.scatter_3d(df_3d, x='x', y='y', z='z', title='Wykres 3D')\n",
    "fig.show()"
   ]
  },
  {
   "cell_type": "markdown",
   "id": "769a9b26",
   "metadata": {},
   "source": [
    "## 5. Dostosowywanie wykresów\n",
    "\n",
    "### 5.1. Dodawanie tytułów i etykiet osi"
   ]
  },
  {
   "cell_type": "markdown",
   "id": "32c57abe",
   "metadata": {},
   "source": [
    "## 5. Dostosowywanie wykresów\n",
    "\n",
    "### 5.1. Dodawanie tytułów i etykiet osi\n",
    "\n",
    "\n",
    "fig.update_layout(\n",
    "    title='Mój Wykres',\n",
    "    xaxis_title='Oś X',\n",
    "    yaxis_title='Oś Y'\n",
    ")\n",
    "```\n",
    "\n",
    "### 5.2. Dodawanie legendy\n",
    "\n",
    "Plotly automatycznie dodaje legendę, gdy wykres zawiera wiele serii danych. Możesz dostosować położenie i wygląd legendy:\n",
    "\n",
    "```python\n",
    "fig.update_layout(\n",
    "    legend=dict(\n",
    "        x=0.5,\n",
    "        y=1,\n",
    "        traceorder='normal',\n",
    "        font=dict(\n",
    "            family='Arial',\n",
    "            size=12,\n",
    "            color='black'\n",
    "        ),\n",
    "        bgcolor='LightSteelBlue',\n",
    "        bordercolor='Black',\n",
    "        borderwidth=2\n",
    "    )\n",
    ")\n",
    "```\n",
    "\n",
    "### 5.3. Ustawianie zakresów osi\n",
    "\n",
    "```python\n",
    "fig.update_xaxes(range=[0, 10])\n",
    "fig.update_yaxes(range=[0, 20])\n",
    "```\n",
    "\n",
    "### 5.4. Dodawanie adnotacji\n",
    "\n",
    "```python\n",
    "fig.add_annotation(\n",
    "    x=2,\n",
    "    y=5,\n",
    "    text='Punkt krytyczny',\n",
    "    showarrow=True,\n",
    "    arrowhead=1\n",
    ")\n",
    "```\n",
    "\n",
    "## 6. Interaktywność w Plotly\n",
    "\n",
    "Plotly tworzy interaktywne wykresy, które pozwalają na:\n",
    "\n",
    "- **Powiększanie i przesuwanie**: Użytkownik może powiększać określone obszary wykresu.\n",
    "- **Wyświetlanie etykiet danych**: Po najechaniu myszką na punkt wyświetlane są szczegółowe informacje.\n",
    "- **Filtrowanie danych**: Możliwość dynamicznego filtrowania danych na wykresie.\n",
    "\n",
    "## 7. Praca z danymi Pandas\n",
    "\n",
    "Plotly Express doskonale integruje się z Pandas DataFrame. Możesz bezpośrednio przekazywać kolumny DataFrame jako parametry.\n",
    "\n",
    "```python\n",
    "import pandas as pd\n",
    "\n",
    "# Załóżmy, że masz DataFrame 'df' z kolumnami 'czas' i 'wartość'\n",
    "fig = px.line(df, x='czas', y='wartość', title='Wykres z danymi Pandas')\n",
    "fig.show()\n",
    "```"
   ]
  },
  {
   "cell_type": "markdown",
   "id": "355fd803",
   "metadata": {},
   "source": [
    "## 8. Zaawansowane wykresy z użyciem Graph Objects\n",
    "\n",
    "### 8.1. Tworzenie wykresu liniowego"
   ]
  },
  {
   "cell_type": "code",
   "execution_count": null,
   "id": "c17c45b9",
   "metadata": {},
   "outputs": [],
   "source": [
    "import plotly.graph_objects as go\n",
    "\n",
    "fig = go.Figure()\n",
    "\n",
    "fig.add_trace(go.Scatter(\n",
    "    x=[1, 2, 3, 4, 5],\n",
    "    y=[2, 3, 5, 7, 11],\n",
    "    mode='lines+markers',\n",
    "    name='Dane 1'\n",
    "))\n",
    "\n",
    "fig.update_layout(title='Wykres liniowy z Graph Objects')\n",
    "fig.show()"
   ]
  },
  {
   "cell_type": "markdown",
   "id": "3fecc16d",
   "metadata": {},
   "source": [
    "### 8.2. Tworzenie wielu serii danych\n",
    "\n",
    "```python\n",
    "fig.add_trace(go.Scatter(\n",
    "    x=[1, 2, 3, 4, 5],\n",
    "    y=[1, 4, 6, 8, 9],\n",
    "    mode='lines+markers',\n",
    "    name='Dane 2'\n",
    "))\n",
    "```"
   ]
  },
  {
   "cell_type": "markdown",
   "id": "2fcc181d",
   "metadata": {},
   "source": [
    "### 8.3. Tworzenie podwykresów"
   ]
  },
  {
   "cell_type": "code",
   "execution_count": null,
   "id": "eb261594",
   "metadata": {},
   "outputs": [],
   "source": [
    "from plotly.subplots import make_subplots\n",
    "\n",
    "fig = make_subplots(rows=1, cols=2)\n",
    "\n",
    "fig.add_trace(go.Scatter(x=[1, 2, 3], y=[4, 5, 6]), row=1, col=1)\n",
    "fig.add_trace(go.Bar(x=[1, 2, 3], y=[2, 3, 4]), row=1, col=2)\n",
    "\n",
    "fig.update_layout(title='Podwykresy w Plotly')\n",
    "fig.show()"
   ]
  },
  {
   "cell_type": "markdown",
   "id": "a988ae0d",
   "metadata": {},
   "source": [
    "## 9. Mapy i wizualizacje geograficzne\n",
    "\n",
    "Plotly umożliwia tworzenie interaktywnych map."
   ]
  },
  {
   "cell_type": "code",
   "execution_count": null,
   "id": "664a1d37",
   "metadata": {},
   "outputs": [],
   "source": [
    "import plotly.express as px\n",
    "\n",
    "df = px.data.gapminder().query(\"year==2007\")\n",
    "\n",
    "fig = px.scatter_geo(df, locations=\"iso_alpha\",\n",
    "                     color=\"continent\", size=\"pop\",\n",
    "                     hover_name=\"country\",\n",
    "                     projection=\"natural earth\",\n",
    "                     title=\"Populacja świata w 2007 roku\")\n",
    "fig.show()"
   ]
  },
  {
   "cell_type": "markdown",
   "id": "59ae7631",
   "metadata": {},
   "source": [
    "## 10. Animacje\n",
    "\n",
    "Plotly pozwala tworzyć animowane wykresy."
   ]
  },
  {
   "cell_type": "code",
   "execution_count": null,
   "id": "2c90d7e9",
   "metadata": {},
   "outputs": [],
   "source": [
    "df = px.data.gapminder()\n",
    "\n",
    "fig = px.bar(df, x='continent', y='pop', color='continent',\n",
    "             animation_frame='year', animation_group='country',\n",
    "             range_y=[0, 4000000000],\n",
    "             title='Zmiany populacji kontynentów w czasie')\n",
    "\n",
    "fig.show()"
   ]
  },
  {
   "cell_type": "markdown",
   "id": "acf20d4f",
   "metadata": {},
   "source": [
    "## 11. Zapisywanie wykresów\n",
    "\n",
    "### 11.1. Zapisywanie do pliku HTML\n",
    "\n",
    "```python\n",
    "fig.write_html('wykres.html')\n",
    "```\n",
    "\n",
    "### 11.2. Zapisywanie jako obraz\n",
    "\n",
    "Aby zapisać wykres jako obraz (PNG, JPEG), musisz zainstalować dodatkowy pakiet:\n",
    "\n",
    "```bash\n",
    "pip install -U kaleido\n",
    "```\n",
    "\n",
    "Następnie:\n",
    "\n",
    "```python\n",
    "fig.write_image('wykres.png')\n",
    "```\n",
    "\n",
    "## 12. Podsumowanie\n",
    "\n",
    "Plotly to potężne narzędzie do tworzenia interaktywnych wykresów w Pythonie. Oferuje szeroki zakres funkcji, które pozwalają na tworzenie profesjonalnych wizualizacji danych. Dzięki interfejsom wysokopoziomowym, takim jak Plotly Express, możesz szybko generować wykresy, jednocześnie mając możliwość pełnej kontroli nad szczegółami dzięki Graph Objects.\n"
   ]
  },
  {
   "cell_type": "code",
   "execution_count": null,
   "id": "8fcac09d",
   "metadata": {},
   "outputs": [],
   "source": []
  }
 ],
 "metadata": {
  "kernelspec": {
   "display_name": "Python 3 (ipykernel)",
   "language": "python",
   "name": "python3"
  },
  "language_info": {
   "codemirror_mode": {
    "name": "ipython",
    "version": 3
   },
   "file_extension": ".py",
   "mimetype": "text/x-python",
   "name": "python",
   "nbconvert_exporter": "python",
   "pygments_lexer": "ipython3",
   "version": "3.10.7"
  },
  "toc": {
   "base_numbering": 1,
   "nav_menu": {},
   "number_sections": true,
   "sideBar": true,
   "skip_h1_title": false,
   "title_cell": "Table of Contents",
   "title_sidebar": "Contents",
   "toc_cell": false,
   "toc_position": {},
   "toc_section_display": true,
   "toc_window_display": false
  }
 },
 "nbformat": 4,
 "nbformat_minor": 5
}
