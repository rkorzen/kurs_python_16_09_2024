{
 "cells": [
  {
   "cell_type": "markdown",
   "id": "f1166229-98ad-4735-91b0-361db848c07f",
   "metadata": {},
   "source": [
    "# Wprowadzenie do Jupyter notebook\n",
    "\n",
    "## uruchomienie\n",
    "\n",
    "```\n",
    "jupyter notebook\n",
    "```\n",
    "\n",
    "## elementy Markdown\n",
    "\n",
    "```python\n",
    "def func():\n",
    "    return 10\n",
    "```\n",
    "\n",
    "## Podstawowe skroty klawiaturowe\n",
    "\n",
    "* `esc` - przejscie w tryb polecen\n",
    "* `enter` - edycja komorki\n",
    "\n",
    "w trybie polecen\n",
    "\n",
    "m - markdown\n",
    "y - code\n",
    "\n",
    "a - dodanie powyzej \n",
    "b - dodanie komorki ponizej\n",
    "\n",
    "## wykonanie komorki\n",
    "\n",
    "shift + Enter - wykoanie i przejscie do kolejnej\n",
    "ctrl + Enter - wykoanie i pozostanie na biezacej komorce\n",
    "alt + Enter\n",
    "\n",
    "\n",
    "<table>\n",
    "    <th>A</th>\n",
    "    <th>B</th>\n",
    "    <tr>\n",
    "        <td>1</td>\n",
    "        <td>2</td>\n",
    "    </tr>\n",
    "</table> \n",
    "\n",
    "\n",
    "| A | B |\n",
    "|---|---|\n",
    "| 1 | 2 |\n",
    "\n",
    "$$ y = 3 x $$"
   ]
  },
  {
   "cell_type": "code",
   "execution_count": 7,
   "id": "3829b033-1c25-4ae3-9a63-65f80e0ed427",
   "metadata": {},
   "outputs": [],
   "source": [
    "def func():\n",
    "    return 20"
   ]
  },
  {
   "cell_type": "code",
   "execution_count": 2,
   "id": "f43a5d6c-5379-415c-bce5-275ee4b64315",
   "metadata": {},
   "outputs": [],
   "source": [
    "x = 1"
   ]
  },
  {
   "cell_type": "code",
   "execution_count": 8,
   "id": "e4a63754-bcc2-4242-a41a-c4387105aca3",
   "metadata": {},
   "outputs": [
    {
     "data": {
      "text/plain": [
       "20"
      ]
     },
     "execution_count": 8,
     "metadata": {},
     "output_type": "execute_result"
    }
   ],
   "source": [
    "func()"
   ]
  },
  {
   "cell_type": "code",
   "execution_count": 12,
   "id": "c964f8d4-d39c-41d8-9d6d-fff583828d74",
   "metadata": {},
   "outputs": [
    {
     "data": {
      "application/json": {
       "cell": {
        "!": "OSMagics",
        "HTML": "Other",
        "SVG": "Other",
        "bash": "Other",
        "capture": "ExecutionMagics",
        "cmd": "Other",
        "code_wrap": "ExecutionMagics",
        "debug": "ExecutionMagics",
        "file": "Other",
        "html": "DisplayMagics",
        "javascript": "DisplayMagics",
        "js": "DisplayMagics",
        "latex": "DisplayMagics",
        "markdown": "DisplayMagics",
        "perl": "Other",
        "prun": "ExecutionMagics",
        "pypy": "Other",
        "python": "Other",
        "python2": "Other",
        "python3": "Other",
        "ruby": "Other",
        "script": "ScriptMagics",
        "sh": "Other",
        "svg": "DisplayMagics",
        "sx": "OSMagics",
        "system": "OSMagics",
        "time": "ExecutionMagics",
        "timeit": "ExecutionMagics",
        "writefile": "OSMagics"
       },
       "line": {
        "alias": "OSMagics",
        "alias_magic": "BasicMagics",
        "autoawait": "AsyncMagics",
        "autocall": "AutoMagics",
        "automagic": "AutoMagics",
        "autosave": "KernelMagics",
        "bookmark": "OSMagics",
        "cd": "OSMagics",
        "clear": "KernelMagics",
        "cls": "KernelMagics",
        "code_wrap": "ExecutionMagics",
        "colors": "BasicMagics",
        "conda": "PackagingMagics",
        "config": "ConfigMagics",
        "connect_info": "KernelMagics",
        "copy": "Other",
        "ddir": "Other",
        "debug": "ExecutionMagics",
        "dhist": "OSMagics",
        "dirs": "OSMagics",
        "doctest_mode": "BasicMagics",
        "echo": "Other",
        "ed": "Other",
        "edit": "KernelMagics",
        "env": "OSMagics",
        "gui": "BasicMagics",
        "hist": "Other",
        "history": "HistoryMagics",
        "killbgscripts": "ScriptMagics",
        "ldir": "Other",
        "less": "KernelMagics",
        "load": "CodeMagics",
        "load_ext": "ExtensionMagics",
        "loadpy": "CodeMagics",
        "logoff": "LoggingMagics",
        "logon": "LoggingMagics",
        "logstart": "LoggingMagics",
        "logstate": "LoggingMagics",
        "logstop": "LoggingMagics",
        "ls": "Other",
        "lsmagic": "BasicMagics",
        "macro": "ExecutionMagics",
        "magic": "BasicMagics",
        "mamba": "PackagingMagics",
        "matplotlib": "PylabMagics",
        "micromamba": "PackagingMagics",
        "mkdir": "Other",
        "more": "KernelMagics",
        "notebook": "BasicMagics",
        "page": "BasicMagics",
        "pastebin": "CodeMagics",
        "pdb": "ExecutionMagics",
        "pdef": "NamespaceMagics",
        "pdoc": "NamespaceMagics",
        "pfile": "NamespaceMagics",
        "pinfo": "NamespaceMagics",
        "pinfo2": "NamespaceMagics",
        "pip": "PackagingMagics",
        "popd": "OSMagics",
        "pprint": "BasicMagics",
        "precision": "BasicMagics",
        "prun": "ExecutionMagics",
        "psearch": "NamespaceMagics",
        "psource": "NamespaceMagics",
        "pushd": "OSMagics",
        "pwd": "OSMagics",
        "pycat": "OSMagics",
        "pylab": "PylabMagics",
        "qtconsole": "KernelMagics",
        "quickref": "BasicMagics",
        "recall": "HistoryMagics",
        "rehashx": "OSMagics",
        "reload_ext": "ExtensionMagics",
        "ren": "Other",
        "rep": "Other",
        "rerun": "HistoryMagics",
        "reset": "NamespaceMagics",
        "reset_selective": "NamespaceMagics",
        "rmdir": "Other",
        "run": "ExecutionMagics",
        "save": "CodeMagics",
        "sc": "OSMagics",
        "set_env": "OSMagics",
        "store": "StoreMagics",
        "sx": "OSMagics",
        "system": "OSMagics",
        "tb": "ExecutionMagics",
        "time": "ExecutionMagics",
        "timeit": "ExecutionMagics",
        "unalias": "OSMagics",
        "unload_ext": "ExtensionMagics",
        "who": "NamespaceMagics",
        "who_ls": "NamespaceMagics",
        "whos": "NamespaceMagics",
        "xdel": "NamespaceMagics",
        "xmode": "BasicMagics"
       }
      },
      "text/plain": [
       "Available line magics:\n",
       "%alias  %alias_magic  %autoawait  %autocall  %automagic  %autosave  %bookmark  %cd  %clear  %cls  %code_wrap  %colors  %conda  %config  %connect_info  %copy  %ddir  %debug  %dhist  %dirs  %doctest_mode  %echo  %ed  %edit  %env  %gui  %hist  %history  %killbgscripts  %ldir  %less  %load  %load_ext  %loadpy  %logoff  %logon  %logstart  %logstate  %logstop  %ls  %lsmagic  %macro  %magic  %mamba  %matplotlib  %micromamba  %mkdir  %more  %notebook  %page  %pastebin  %pdb  %pdef  %pdoc  %pfile  %pinfo  %pinfo2  %pip  %popd  %pprint  %precision  %prun  %psearch  %psource  %pushd  %pwd  %pycat  %pylab  %qtconsole  %quickref  %recall  %rehashx  %reload_ext  %ren  %rep  %rerun  %reset  %reset_selective  %rmdir  %run  %save  %sc  %set_env  %store  %sx  %system  %tb  %time  %timeit  %unalias  %unload_ext  %who  %who_ls  %whos  %xdel  %xmode\n",
       "\n",
       "Available cell magics:\n",
       "%%!  %%HTML  %%SVG  %%bash  %%capture  %%cmd  %%code_wrap  %%debug  %%file  %%html  %%javascript  %%js  %%latex  %%markdown  %%perl  %%prun  %%pypy  %%python  %%python2  %%python3  %%ruby  %%script  %%sh  %%svg  %%sx  %%system  %%time  %%timeit  %%writefile\n",
       "\n",
       "Automagic is ON, % prefix IS NOT needed for line magics."
      ]
     },
     "execution_count": 12,
     "metadata": {},
     "output_type": "execute_result"
    }
   ],
   "source": [
    "%lsmagic"
   ]
  },
  {
   "cell_type": "code",
   "execution_count": 8,
   "id": "9ea5d7d3-3bfb-4ddf-be04-47e7f4ed2806",
   "metadata": {},
   "outputs": [
    {
     "name": "stdout",
     "output_type": "stream",
     "text": [
      "103 ms ± 13.1 ms per loop (mean ± std. dev. of 7 runs, 1 loop each)\n"
     ]
    }
   ],
   "source": [
    "%%timeit\n",
    "\n",
    "lista = []\n",
    "for i in range(1_000_000):\n",
    "    lista.append(i)\n"
   ]
  },
  {
   "cell_type": "code",
   "execution_count": 9,
   "id": "6af3d5fd-a428-4618-a27e-f81525767f7c",
   "metadata": {},
   "outputs": [
    {
     "name": "stdout",
     "output_type": "stream",
     "text": [
      "108 ms ± 14.5 ms per loop (mean ± std. dev. of 7 runs, 1 loop each)\n"
     ]
    }
   ],
   "source": [
    "%%timeit\n",
    "\n",
    "[i for i in range(1_000_000)]"
   ]
  },
  {
   "cell_type": "code",
   "execution_count": 10,
   "id": "4a23143d-cc29-41c2-bef2-898fc188981e",
   "metadata": {},
   "outputs": [
    {
     "name": "stdout",
     "output_type": "stream",
     "text": [
      " Volume in drive C has no label.\n",
      " Volume Serial Number is C810-6CAC\n",
      "\n",
      " Directory of C:\\Users\\Szkolenie_03\\Documents\\kursPython\n",
      "\n",
      "18.09.2024  11:45    <DIR>          .\n",
      "18.09.2024  11:45    <DIR>          ..\n",
      "17.09.2024  10:58                28 .gitignore\n",
      "18.09.2024  11:08    <DIR>          .ipynb_checkpoints\n",
      "16.09.2024  10:58    <DIR>          .mypy_cache\n",
      "18.09.2024  11:04    <DIR>          .venv\n",
      "18.09.2024  09:26    <DIR>          build\n",
      "16.09.2024  11:44               272 cwiczenie_01.py\n",
      "16.09.2024  14:38               455 cwiczenie_02.py\n",
      "16.09.2024  15:14               561 cwiczenie_03.py\n",
      "17.09.2024  08:59               612 cwiczenie_04.py\n",
      "17.09.2024  10:00               724 cwiczenie_05.py\n",
      "17.09.2024  10:00               100 cwiczenie_05b.py\n",
      "17.09.2024  11:09               527 cwiczenie_06.py\n",
      "17.09.2024  13:09             1˙204 cwiczenie_07.py\n",
      "17.09.2024  14:29               447 cwiczenie_08.py\n",
      "17.09.2024  15:11               757 cwiczenie_09.py\n",
      "18.09.2024  09:55             1˙108 cwiczenie_10.py\n",
      "17.09.2024  15:10    <DIR>          data\n",
      "18.09.2024  09:26    <DIR>          dist\n",
      "17.09.2024  13:09               878 dziedziczenie.py\n",
      "17.09.2024  08:33             1˙455 formatowanie_napisow.py\n",
      "17.09.2024  11:20               269 funkcje_anonimowe.py\n",
      "17.09.2024  10:50               625 funkcje_przyklady.py\n",
      "16.09.2024  12:22                32 hello.py\n",
      "17.09.2024  10:43               164 jak_dzialaja_importy.py\n",
      "17.09.2024  08:33             1˙290 kolekcje_krotka.py\n",
      "17.09.2024  10:45             1˙286 kolekcje_lista\n",
      "17.09.2024  08:33             1˙639 kolekcje_lista.py\n",
      "17.09.2024  08:33             1˙026 kolekcje_napisy.py\n",
      "17.09.2024  08:33             1˙256 kolekcje_slownik.py\n",
      "17.09.2024  08:33               975 kolekcje_zbior.py\n",
      "18.09.2024  08:53               273 komunikacja_http.py\n",
      "17.09.2024  13:04               924 metody_magiczne.py\n",
      "17.09.2024  08:33             2˙115 petle_w_pythonie.py\n",
      "17.09.2024  14:41               631 praca_z_csv.py\n",
      "17.09.2024  14:51               312 praca_z_json.py\n",
      "17.09.2024  14:08               813 praca_z_plikami.py\n",
      "18.09.2024  09:20               818 prosty_interfejs_graficzny.py\n",
      "18.09.2024  09:26               738 prosty_interfejs_graficzny.spec\n",
      "17.09.2024  09:08            49˙035 README.md\n",
      "17.09.2024  10:54               179 rekurencja_w_pythonie.py\n",
      "18.09.2024  08:39                25 requirements.txt\n",
      "17.09.2024  08:33             2˙685 sciaga.md\n",
      "16.09.2024  11:00               145 typowanie_w_pythonie.py\n",
      "18.09.2024  11:45             9˙124 Untitled.ipynb\n",
      "17.09.2024  13:16               812 wstep_do_oop.py\n",
      "18.09.2024  10:58               811 wyrazenia_regularne_przyklady.py\n",
      "17.09.2024  08:33             2˙112 wyrazenia_warunkowe.py\n",
      "17.09.2024  09:58    <DIR>          __pycache__\n",
      "              41 File(s)         89˙242 bytes\n",
      "               9 Dir(s)  66˙880˙118˙784 bytes free\n"
     ]
    }
   ],
   "source": [
    "!dir"
   ]
  },
  {
   "cell_type": "code",
   "execution_count": 11,
   "id": "09a9891b-f0bd-41c7-8890-71beea59c4e2",
   "metadata": {},
   "outputs": [],
   "source": [
    "# %load cwiczenie_01.py\n",
    "imie = \"rafał\"\n",
    "nazwisko = \"korzeniewski\"\n",
    "\n",
    "print(imie.upper(), nazwisko.upper())\n",
    "\n",
    "zlaczone = imie + \" \" + nazwisko\n",
    "\n",
    "print(zlaczone)\n",
    "\n",
    "print(len(zlaczone))\n",
    "\n",
    "imie.upper()\n",
    "str.upper(imie)\n",
    "\n",
    "print(zlaczone.__len__())\n",
    "\n",
    "help(\"keywords\")\n",
    "\n",
    "print(dir(__builtins__))"
   ]
  },
  {
   "cell_type": "code",
   "execution_count": null,
   "id": "fd8d355a-1a54-46c1-a637-090295400fe3",
   "metadata": {},
   "outputs": [],
   "source": []
  }
 ],
 "metadata": {
  "kernelspec": {
   "display_name": "Python 3 (ipykernel)",
   "language": "python",
   "name": "python3"
  },
  "language_info": {
   "codemirror_mode": {
    "name": "ipython",
    "version": 3
   },
   "file_extension": ".py",
   "mimetype": "text/x-python",
   "name": "python",
   "nbconvert_exporter": "python",
   "pygments_lexer": "ipython3",
   "version": "3.12.6"
  }
 },
 "nbformat": 4,
 "nbformat_minor": 5
}
