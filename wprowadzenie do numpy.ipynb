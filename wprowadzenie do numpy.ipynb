{
 "cells": [
  {
   "cell_type": "markdown",
   "id": "557452e2",
   "metadata": {},
   "source": [
    "# Wprowadzenie do NumPy\n",
    "\n",
    "## 1. Czym jest NumPy?\n",
    "\n",
    "NumPy (Numerical Python) to biblioteka Pythona służąca do obsługi dużych, wielowymiarowych tablic i macierzy, wraz z bogatym zestawem funkcji matematycznych do ich przetwarzania. Jest fundamentem dla wielu innych bibliotek naukowych w Pythonie, takich jak SciPy, Pandas czy Matplotlib.\n",
    "\n",
    "## 2. Instalacja NumPy\n",
    "\n",
    "Aby zainstalować NumPy, możesz użyć pip:\n",
    "\n",
    "```bash\n",
    "pip install numpy\n",
    "```\n",
    "\n",
    "Jeśli używasz Anacondy:\n",
    "\n",
    "```bash\n",
    "conda install numpy\n",
    "```\n",
    "\n",
    "## 3. Podstawy pracy z NumPy\n",
    "\n",
    "### 3.1. Importowanie biblioteki\n",
    "\n",
    "Standardowo NumPy importuje się jako `np`:"
   ]
  },
  {
   "cell_type": "code",
   "execution_count": 2,
   "id": "04806a60",
   "metadata": {},
   "outputs": [],
   "source": [
    "import numpy as np"
   ]
  },
  {
   "cell_type": "markdown",
   "id": "e7231e56",
   "metadata": {},
   "source": [
    "### 3.2. Tworzenie tablic\n",
    "\n",
    "- **Z listy Pythona:**"
   ]
  },
  {
   "cell_type": "code",
   "execution_count": 4,
   "id": "1a0a59c2",
   "metadata": {},
   "outputs": [
    {
     "data": {
      "text/plain": [
       "array([1, 2, 3, 4, 5])"
      ]
     },
     "execution_count": 4,
     "metadata": {},
     "output_type": "execute_result"
    }
   ],
   "source": [
    "lista = [1, 2, 3, 4, 5]\n",
    "tablica = np.array(lista)\n",
    "tablica"
   ]
  },
  {
   "cell_type": "markdown",
   "id": "29974e3a",
   "metadata": {},
   "source": [
    "- **Tablice wielowymiarowe:**"
   ]
  },
  {
   "cell_type": "code",
   "execution_count": 6,
   "id": "bd38047f",
   "metadata": {},
   "outputs": [
    {
     "data": {
      "text/plain": [
       "array([[1, 2, 3],\n",
       "       [4, 5, 6]])"
      ]
     },
     "execution_count": 6,
     "metadata": {},
     "output_type": "execute_result"
    }
   ],
   "source": [
    "macierz = np.array([[1, 2, 3], [4, 5, 6]])\n",
    "macierz"
   ]
  },
  {
   "cell_type": "markdown",
   "id": "dbf45d8f",
   "metadata": {},
   "source": [
    "### 3.3. Generowanie tablic\n",
    "\n",
    "- **Tablica wypełniona zerami:**"
   ]
  },
  {
   "cell_type": "code",
   "execution_count": 7,
   "id": "651e7aa1",
   "metadata": {},
   "outputs": [
    {
     "data": {
      "text/plain": [
       "array([[0., 0., 0., 0.],\n",
       "       [0., 0., 0., 0.],\n",
       "       [0., 0., 0., 0.]])"
      ]
     },
     "execution_count": 7,
     "metadata": {},
     "output_type": "execute_result"
    }
   ],
   "source": [
    "zera = np.zeros((3, 4))\n",
    "zera"
   ]
  },
  {
   "cell_type": "markdown",
   "id": "231bec04",
   "metadata": {},
   "source": [
    "- **Tablica wypełniona jedynkami:**"
   ]
  },
  {
   "cell_type": "code",
   "execution_count": 8,
   "id": "7da7a817",
   "metadata": {},
   "outputs": [
    {
     "data": {
      "text/plain": [
       "array([[1., 1., 1., 1., 1.],\n",
       "       [1., 1., 1., 1., 1.]])"
      ]
     },
     "execution_count": 8,
     "metadata": {},
     "output_type": "execute_result"
    }
   ],
   "source": [
    "jedynki = np.ones((2, 5))\n",
    "jedynki"
   ]
  },
  {
   "cell_type": "markdown",
   "id": "71b517ac",
   "metadata": {},
   "source": [
    "- **Tablica z losowymi liczbami:**"
   ]
  },
  {
   "cell_type": "code",
   "execution_count": 9,
   "id": "fbc41f1e",
   "metadata": {},
   "outputs": [
    {
     "data": {
      "text/plain": [
       "array([[0.81454706, 0.1093199 , 0.82448624, 0.60892021],\n",
       "       [0.06184484, 0.64772729, 0.38148796, 0.23405545],\n",
       "       [0.95701954, 0.20414634, 0.32102295, 0.50202946],\n",
       "       [0.71195613, 0.46528044, 0.70622112, 0.70573311]])"
      ]
     },
     "execution_count": 9,
     "metadata": {},
     "output_type": "execute_result"
    }
   ],
   "source": [
    "losowe = np.random.rand(4, 4)\n",
    "losowe"
   ]
  },
  {
   "cell_type": "markdown",
   "id": "fa8dfa02",
   "metadata": {},
   "source": [
    "- **Tablica z określonym zakresem liczb:**"
   ]
  },
  {
   "cell_type": "code",
   "execution_count": 10,
   "id": "f10076a1",
   "metadata": {},
   "outputs": [],
   "source": [
    "zakres = np.arange(0, 10, 2)  # [0, 2, 4, 6, 8]\n"
   ]
  },
  {
   "cell_type": "markdown",
   "id": "7f2a24b1",
   "metadata": {},
   "source": [
    "### 3.4. Podstawowe operacje na tablicach\n",
    "\n",
    "- **Operacje arytmetyczne:**"
   ]
  },
  {
   "cell_type": "code",
   "execution_count": 12,
   "id": "8744b127",
   "metadata": {},
   "outputs": [],
   "source": [
    "a = np.array([1, 2, 3])\n",
    "b = np.array([4, 5, 6])"
   ]
  },
  {
   "cell_type": "code",
   "execution_count": 13,
   "id": "16b262ac",
   "metadata": {},
   "outputs": [
    {
     "data": {
      "text/plain": [
       "array([5, 7, 9])"
      ]
     },
     "execution_count": 13,
     "metadata": {},
     "output_type": "execute_result"
    }
   ],
   "source": [
    "a + b          # [5, 7, 9]"
   ]
  },
  {
   "cell_type": "code",
   "execution_count": 14,
   "id": "cb5672a9",
   "metadata": {},
   "outputs": [
    {
     "data": {
      "text/plain": [
       "array([-3, -3, -3])"
      ]
     },
     "execution_count": 14,
     "metadata": {},
     "output_type": "execute_result"
    }
   ],
   "source": [
    "a - b        # [-3, -3, -3]"
   ]
  },
  {
   "cell_type": "code",
   "execution_count": 15,
   "id": "f3fe792d",
   "metadata": {},
   "outputs": [
    {
     "data": {
      "text/plain": [
       "array([ 4, 10, 18])"
      ]
     },
     "execution_count": 15,
     "metadata": {},
     "output_type": "execute_result"
    }
   ],
   "source": [
    "a * b           # [4, 10, 18]"
   ]
  },
  {
   "cell_type": "code",
   "execution_count": 16,
   "id": "19482654",
   "metadata": {},
   "outputs": [
    {
     "data": {
      "text/plain": [
       "array([0.25, 0.4 , 0.5 ])"
      ]
     },
     "execution_count": 16,
     "metadata": {},
     "output_type": "execute_result"
    }
   ],
   "source": [
    "a / b          # [0.25, 0.4, 0.5]"
   ]
  },
  {
   "cell_type": "markdown",
   "id": "5ee33ed0",
   "metadata": {},
   "source": [
    "- **Funkcje matematyczne:**"
   ]
  },
  {
   "cell_type": "code",
   "execution_count": 17,
   "id": "9955def6",
   "metadata": {},
   "outputs": [
    {
     "data": {
      "text/plain": [
       "array([0.84147098, 0.90929743, 0.14112001])"
      ]
     },
     "execution_count": 17,
     "metadata": {},
     "output_type": "execute_result"
    }
   ],
   "source": [
    "sinusy = np.sin(a)\n",
    "sinusy"
   ]
  },
  {
   "cell_type": "code",
   "execution_count": 18,
   "id": "d628ef9f",
   "metadata": {},
   "outputs": [
    {
     "data": {
      "text/plain": [
       "array([0.        , 0.69314718, 1.09861229])"
      ]
     },
     "execution_count": 18,
     "metadata": {},
     "output_type": "execute_result"
    }
   ],
   "source": [
    "logarytmy = np.log(a)\n",
    "logarytmy"
   ]
  },
  {
   "cell_type": "code",
   "execution_count": 19,
   "id": "7e1eaa27",
   "metadata": {},
   "outputs": [
    {
     "data": {
      "text/plain": [
       "array([1.        , 1.41421356, 1.73205081])"
      ]
     },
     "execution_count": 19,
     "metadata": {},
     "output_type": "execute_result"
    }
   ],
   "source": [
    "pierwiastki = np.sqrt(a)\n",
    "pierwiastki"
   ]
  },
  {
   "cell_type": "markdown",
   "id": "cf414530",
   "metadata": {},
   "source": [
    "### 3.5. Indeksowanie i cięcie tablic\n",
    "\n",
    "- **Indeksowanie:**"
   ]
  },
  {
   "cell_type": "code",
   "execution_count": 20,
   "id": "bd3ed1b0",
   "metadata": {},
   "outputs": [
    {
     "data": {
      "text/plain": [
       "1"
      ]
     },
     "execution_count": 20,
     "metadata": {},
     "output_type": "execute_result"
    }
   ],
   "source": [
    "element = a[0]  # 1\n",
    "element"
   ]
  },
  {
   "cell_type": "markdown",
   "id": "c03311e4",
   "metadata": {},
   "source": [
    "- **Cięcie:**"
   ]
  },
  {
   "cell_type": "code",
   "execution_count": 21,
   "id": "8d937c0e",
   "metadata": {},
   "outputs": [
    {
     "data": {
      "text/plain": [
       "array([1, 2])"
      ]
     },
     "execution_count": 21,
     "metadata": {},
     "output_type": "execute_result"
    }
   ],
   "source": [
    "podtablica = a[0:2]  # [1, 2]\n",
    "podtablica"
   ]
  },
  {
   "cell_type": "markdown",
   "id": "177d3101",
   "metadata": {},
   "source": [
    "- **Indeksowanie wielowymiarowe:**"
   ]
  },
  {
   "cell_type": "code",
   "execution_count": 23,
   "id": "3201be4a",
   "metadata": {},
   "outputs": [
    {
     "data": {
      "text/plain": [
       "2"
      ]
     },
     "execution_count": 23,
     "metadata": {},
     "output_type": "execute_result"
    }
   ],
   "source": [
    "element = macierz[0, 1]  # 2\n",
    "element"
   ]
  },
  {
   "cell_type": "markdown",
   "id": "edcae01e",
   "metadata": {},
   "source": [
    "### 3.6. Kształt i rozmiar tablic\n",
    "\n",
    "- **Sprawdzanie kształtu:**"
   ]
  },
  {
   "cell_type": "code",
   "execution_count": 24,
   "id": "bb9dfd15",
   "metadata": {},
   "outputs": [
    {
     "data": {
      "text/plain": [
       "(2, 3)"
      ]
     },
     "execution_count": 24,
     "metadata": {},
     "output_type": "execute_result"
    }
   ],
   "source": [
    "\n",
    "macierz.shape  # (2, 3)"
   ]
  },
  {
   "cell_type": "markdown",
   "id": "c69e19d7",
   "metadata": {},
   "source": [
    "- **Zmiana kształtu:**"
   ]
  },
  {
   "cell_type": "code",
   "execution_count": 26,
   "id": "25c98690",
   "metadata": {},
   "outputs": [
    {
     "data": {
      "text/plain": [
       "array([[1, 2],\n",
       "       [3, 4],\n",
       "       [5, 6]])"
      ]
     },
     "execution_count": 26,
     "metadata": {},
     "output_type": "execute_result"
    }
   ],
   "source": [
    "macierz.reshape(3, 2)"
   ]
  },
  {
   "cell_type": "markdown",
   "id": "e8bfd8d9",
   "metadata": {},
   "source": [
    "- **Rozmiar tablicy:**"
   ]
  },
  {
   "cell_type": "code",
   "execution_count": 28,
   "id": "70cb36e2",
   "metadata": {},
   "outputs": [
    {
     "data": {
      "text/plain": [
       "6"
      ]
     },
     "execution_count": 28,
     "metadata": {},
     "output_type": "execute_result"
    }
   ],
   "source": [
    "macierz.size  # 6\n"
   ]
  },
  {
   "cell_type": "markdown",
   "id": "e993fbfc",
   "metadata": {},
   "source": [
    "### 3.7. Łączenie i dzielenie tablic\n",
    "\n",
    "- **Łączenie:**"
   ]
  },
  {
   "cell_type": "code",
   "execution_count": 29,
   "id": "a4e3a65e",
   "metadata": {},
   "outputs": [
    {
     "data": {
      "text/plain": [
       "array([1, 2, 3, 4, 5, 6])"
      ]
     },
     "execution_count": 29,
     "metadata": {},
     "output_type": "execute_result"
    }
   ],
   "source": [
    "połączone = np.concatenate((a, b))  # [1, 2, 3, 4, 5, 6]\n",
    "połączone"
   ]
  },
  {
   "cell_type": "markdown",
   "id": "1c7875a6",
   "metadata": {},
   "source": [
    "- **Dzielenie:**"
   ]
  },
  {
   "cell_type": "code",
   "execution_count": 30,
   "id": "394968cf",
   "metadata": {},
   "outputs": [
    {
     "data": {
      "text/plain": [
       "[array([1]), array([2]), array([3])]"
      ]
     },
     "execution_count": 30,
     "metadata": {},
     "output_type": "execute_result"
    }
   ],
   "source": [
    "podzielone = np.split(a, 3)  # [array([1]), array([2]), array([3])]\n",
    "podzielone"
   ]
  },
  {
   "cell_type": "markdown",
   "id": "2488355c",
   "metadata": {},
   "source": [
    "## 4. Zaawansowane funkcje\n",
    "\n",
    "### 4.1. Maski logiczne"
   ]
  },
  {
   "cell_type": "code",
   "execution_count": 32,
   "id": "f2314d3e",
   "metadata": {},
   "outputs": [
    {
     "data": {
      "text/plain": [
       "array([False, False,  True,  True,  True])"
      ]
     },
     "execution_count": 32,
     "metadata": {},
     "output_type": "execute_result"
    }
   ],
   "source": [
    "a = np.array([1, 2, 3, 4, 5])\n",
    "maska = a > 2\n",
    "maska"
   ]
  },
  {
   "cell_type": "code",
   "execution_count": 33,
   "id": "e3afbd43",
   "metadata": {},
   "outputs": [
    {
     "data": {
      "text/plain": [
       "array([3, 4, 5])"
      ]
     },
     "execution_count": 33,
     "metadata": {},
     "output_type": "execute_result"
    }
   ],
   "source": [
    "wynik = a[maska]  # [3, 4, 5]\n",
    "wynik"
   ]
  },
  {
   "cell_type": "markdown",
   "id": "53e796ea",
   "metadata": {},
   "source": [
    "### 4.2. Algebra liniowa\n",
    "\n",
    "- **Iloczyn macierzy:**"
   ]
  },
  {
   "cell_type": "code",
   "execution_count": 35,
   "id": "cb2d8ef8",
   "metadata": {},
   "outputs": [
    {
     "data": {
      "text/plain": [
       "array([[19, 22],\n",
       "       [43, 50]])"
      ]
     },
     "execution_count": 35,
     "metadata": {},
     "output_type": "execute_result"
    }
   ],
   "source": [
    "A = np.array([[1, 2], [3, 4]])\n",
    "B = np.array([[5, 6], [7, 8]])\n",
    "\n",
    "iloczyn = np.dot(A, B)\n",
    "iloczyn"
   ]
  },
  {
   "cell_type": "markdown",
   "id": "88223e21",
   "metadata": {},
   "source": [
    "- **Wyznacznik macierzy:**"
   ]
  },
  {
   "cell_type": "code",
   "execution_count": 36,
   "id": "ec6641a6",
   "metadata": {},
   "outputs": [
    {
     "data": {
      "text/plain": [
       "-2.0000000000000004"
      ]
     },
     "execution_count": 36,
     "metadata": {},
     "output_type": "execute_result"
    }
   ],
   "source": [
    "wyznacznik = np.linalg.det(A)\n",
    "wyznacznik"
   ]
  },
  {
   "cell_type": "markdown",
   "id": "47722b22",
   "metadata": {},
   "source": [
    "- **Rozwiązywanie układów równań:**"
   ]
  },
  {
   "cell_type": "code",
   "execution_count": 37,
   "id": "a6b8b56d",
   "metadata": {},
   "outputs": [],
   "source": [
    "b = np.array([1, 2])\n",
    "x = np.linalg.solve(A, b)"
   ]
  },
  {
   "cell_type": "markdown",
   "id": "1970823f",
   "metadata": {},
   "source": [
    "### 4.3. Funkcje statystyczne"
   ]
  },
  {
   "cell_type": "code",
   "execution_count": 38,
   "id": "4e31f5c5",
   "metadata": {},
   "outputs": [
    {
     "data": {
      "text/plain": [
       "(3.0, 3.0, 1.4142135623730951)"
      ]
     },
     "execution_count": 38,
     "metadata": {},
     "output_type": "execute_result"
    }
   ],
   "source": [
    "a = np.array([1, 2, 3, 4, 5])\n",
    "\n",
    "średnia = np.mean(a)\n",
    "mediana = np.median(a)\n",
    "odchylenie_standardowe = np.std(a)\n",
    "\n",
    "średnia, mediana, odchylenie_standardowe"
   ]
  },
  {
   "cell_type": "markdown",
   "id": "917c116b",
   "metadata": {},
   "source": [
    "## 5. Zastosowania NumPy\n",
    "\n",
    "NumPy jest szeroko stosowany w dziedzinach takich jak:\n",
    "\n",
    "- **Analiza danych:** Podstawa dla bibliotek takich jak Pandas.\n",
    "- **Uczenie maszynowe:** Wykorzystywany w bibliotekach takich jak TensorFlow czy PyTorch.\n",
    "- **Przetwarzanie obrazów:** Używany w bibliotekach takich jak OpenCV.\n",
    "- **Obliczenia naukowe:** W połączeniu z SciPy umożliwia zaawansowane obliczenia numeryczne."
   ]
  },
  {
   "cell_type": "code",
   "execution_count": null,
   "id": "3b136c21",
   "metadata": {},
   "outputs": [],
   "source": []
  }
 ],
 "metadata": {
  "kernelspec": {
   "display_name": "Python 3 (ipykernel)",
   "language": "python",
   "name": "python3"
  },
  "language_info": {
   "codemirror_mode": {
    "name": "ipython",
    "version": 3
   },
   "file_extension": ".py",
   "mimetype": "text/x-python",
   "name": "python",
   "nbconvert_exporter": "python",
   "pygments_lexer": "ipython3",
   "version": "3.10.7"
  },
  "toc": {
   "base_numbering": 1,
   "nav_menu": {},
   "number_sections": true,
   "sideBar": true,
   "skip_h1_title": false,
   "title_cell": "Table of Contents",
   "title_sidebar": "Contents",
   "toc_cell": false,
   "toc_position": {},
   "toc_section_display": true,
   "toc_window_display": false
  }
 },
 "nbformat": 4,
 "nbformat_minor": 5
}
