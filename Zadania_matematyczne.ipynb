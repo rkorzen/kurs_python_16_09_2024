{
 "cells": [
  {
   "cell_type": "markdown",
   "id": "3addc208",
   "metadata": {},
   "source": [
    "### 1. Obliczanie całki oznaczonej\n",
    "\n",
    "**Zadanie:**\n",
    "Napisz funkcję w Pythonie, która obliczy wartość całki oznaczonej dla wybranej funkcji matematycznej $$ f(x) $$ w podanym przedziale $$[a, b]$$.\n",
    "\n",
    "**Rozwiązanie:**\n",
    "Można wykorzystać bibliotekę `scipy` i funkcję `quad`."
   ]
  },
  {
   "cell_type": "code",
   "execution_count": 5,
   "id": "d2515208",
   "metadata": {},
   "outputs": [
    {
     "name": "stdout",
     "output_type": "stream",
     "text": [
      "Wartość całki: 2.0, szacowany błąd: 2.220446049250313e-14\n"
     ]
    }
   ],
   "source": [
    "\n",
    "from scipy.integrate import quad\n",
    "import numpy as np\n",
    "\n",
    "# Definicja funkcji\n",
    "def f(x):\n",
    "    return np.sin(x)\n",
    "\n",
    "# Obliczanie całki oznaczonej w przedziale [a, b]\n",
    "a, b = 0, np.pi\n",
    "result, error = quad(f, a, b)\n",
    "\n",
    "print(f'Wartość całki: {result}, szacowany błąd: {error}')\n"
   ]
  },
  {
   "cell_type": "markdown",
   "id": "453d7570",
   "metadata": {},
   "source": [
    "### 2. Obliczanie pochodnej funkcji\n",
    "**Zadanie:**\n",
    "Napisz program w Pythonie, który obliczy pochodną funkcji $$ f(x) $$ w punkcie $$ x_0 )$$, korzystając z definicji różniczki skończonej.\n",
    "\n",
    "**Rozwiązanie:**\n",
    "Można wykorzystać centralną różniczkę."
   ]
  },
  {
   "cell_type": "code",
   "execution_count": 4,
   "id": "105843fe",
   "metadata": {},
   "outputs": [
    {
     "name": "stdout",
     "output_type": "stream",
     "text": [
      "Pochodna funkcji w punkcie 2: 21.000000000270802\n"
     ]
    }
   ],
   "source": [
    "def derivative(f, x, h=1e-5):\n",
    "    return (f(x + h) - f(x - h)) / (2 * h)\n",
    "\n",
    "# Definicja funkcji\n",
    "def f(x):\n",
    "    return x**3 + 2*x**2 + x\n",
    "\n",
    "# Punkt, w którym obliczamy pochodną\n",
    "x0 = 2\n",
    "\n",
    "# Obliczenie pochodnej\n",
    "deriv_value = derivative(f, x0)\n",
    "print(f'Pochodna funkcji w punkcie {x0}: {deriv_value}')\n"
   ]
  },
  {
   "cell_type": "markdown",
   "id": "8ca5585b",
   "metadata": {},
   "source": [
    "### 3. Równania różniczkowe\n",
    "\n",
    "**Zadanie:**\n",
    "Rozwiąż równanie różniczkowe $$ \\frac{dy}{dx} = y - x^2 + 1 $$, dla warunku początkowego $$ y(0) = 0.5 $$, korzystając z metody Rungego-Kutty.\n",
    "\n",
    "**Rozwiązanie:**\n",
    "Można skorzystać z funkcji `solve_ivp` w `scipy`.\n"
   ]
  },
  {
   "cell_type": "code",
   "execution_count": 3,
   "id": "16ed715e",
   "metadata": {},
   "outputs": [
    {
     "data": {
      "image/png": "[encoded data removed]",
      "text/plain": [
       "<Figure size 640x480 with 1 Axes>"
      ]
     },
     "metadata": {},
     "output_type": "display_data"
    }
   ],
   "source": [
    "from scipy.integrate import solve_ivp\n",
    "import numpy as np\n",
    "import matplotlib.pyplot as plt\n",
    "\n",
    "# Definicja równania różniczkowego\n",
    "def dydx(x, y):\n",
    "    return y - x**2 + 1\n",
    "\n",
    "# Warunki początkowe\n",
    "x0, y0 = 0, 0.5\n",
    "\n",
    "# Rozwiązywanie równania różniczkowego w przedziale [0, 5]\n",
    "sol = solve_ivp(dydx, [0, 5], [y0], dense_output=True)\n",
    "\n",
    "# Rysowanie rozwiązania\n",
    "x_vals = np.linspace(0, 5, 100)\n",
    "y_vals = sol.sol(x_vals)\n",
    "\n",
    "plt.plot(x_vals, y_vals.T)\n",
    "plt.title('Rozwiązanie równania różniczkowego')\n",
    "plt.xlabel('x')\n",
    "plt.ylabel('y')\n",
    "plt.show()\n"
   ]
  },
  {
   "cell_type": "markdown",
   "id": "d38f208a",
   "metadata": {},
   "source": [
    "### 4. Obliczanie wyznacznika macierzy\n",
    "**Zadanie:**\n",
    "Napisz funkcję, która obliczy wyznacznik macierzy o dowolnych wymiarach.\n",
    "\n",
    "**Rozwiązanie:**\n",
    "Można wykorzystać bibliotekę `numpy`."
   ]
  },
  {
   "cell_type": "code",
   "execution_count": 2,
   "id": "19aea1dd",
   "metadata": {},
   "outputs": [
    {
     "name": "stdout",
     "output_type": "stream",
     "text": [
      "Wyznacznik macierzy: 58.000000000000036\n"
     ]
    }
   ],
   "source": [
    "import numpy as np\n",
    "\n",
    "# Przykładowa macierz\n",
    "matrix = np.array([[2, 4, 6], [3, 8, 2], [1, 5, 7]])\n",
    "\n",
    "# Obliczanie wyznacznika\n",
    "determinant = np.linalg.det(matrix)\n",
    "\n",
    "print(f'Wyznacznik macierzy: {determinant}')"
   ]
  },
  {
   "cell_type": "markdown",
   "id": "b04d22b4",
   "metadata": {},
   "source": [
    "### 5. Znajdowanie miejsc zerowych funkcji\n",
    "**Zadanie:**\n",
    "Napisz program, który znajdzie miejsce zerowe funkcji \\( f(x) \\) korzystając z metody Newtona-Raphsona.\n",
    "\n",
    "**Rozwiązanie:**\n",
    "Można skorzystać z funkcji `newton` z `scipy`."
   ]
  },
  {
   "cell_type": "code",
   "execution_count": 1,
   "id": "646ea49d",
   "metadata": {},
   "outputs": [
    {
     "name": "stdout",
     "output_type": "stream",
     "text": [
      "Miejsce zerowe funkcji: 1.0\n"
     ]
    }
   ],
   "source": [
    "\n",
    "from scipy.optimize import newton\n",
    "import numpy as np\n",
    "\n",
    "# Definicja funkcji\n",
    "def f(x):\n",
    "    return x**3 - 2*x + 1\n",
    "\n",
    "# Definicja pochodnej funkcji\n",
    "def f_prime(x):\n",
    "    return 3*x**2 - 2\n",
    "\n",
    "# Szukanie miejsca zerowego\n",
    "root = newton(f, x0=1, fprime=f_prime)\n",
    "\n",
    "print(f'Miejsce zerowe funkcji: {root}')\n"
   ]
  },
  {
   "cell_type": "code",
   "execution_count": null,
   "id": "6e4d08e2",
   "metadata": {},
   "outputs": [],
   "source": []
  }
 ],
 "metadata": {
  "kernelspec": {
   "display_name": "Python 3 (ipykernel)",
   "language": "python",
   "name": "python3"
  },
  "language_info": {
   "codemirror_mode": {
    "name": "ipython",
    "version": 3
   },
   "file_extension": ".py",
   "mimetype": "text/x-python",
   "name": "python",
   "nbconvert_exporter": "python",
   "pygments_lexer": "ipython3",
   "version": "3.10.7"
  },
  "toc": {
   "base_numbering": 1,
   "nav_menu": {},
   "number_sections": true,
   "sideBar": true,
   "skip_h1_title": false,
   "title_cell": "Table of Contents",
   "title_sidebar": "Contents",
   "toc_cell": false,
   "toc_position": {},
   "toc_section_display": true,
   "toc_window_display": false
  }
 },
 "nbformat": 4,
 "nbformat_minor": 5
}
