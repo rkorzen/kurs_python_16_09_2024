{
 "cells": [
  {
   "cell_type": "markdown",
   "id": "f7b89069",
   "metadata": {},
   "source": [
    "# Wprowadzenie do wyrażeń regularnych (regexp)\n",
    "\n",
    "## 1. Czym są wyrażenia regularne?\n",
    "\n",
    "Wyrażenia regularne (ang. **regular expressions**, w skrócie **regex** lub **regexp**) to potężne narzędzie służące do wyszukiwania, dopasowywania i manipulowania tekstem na podstawie wzorców. Pozwalają na opisanie skomplikowanych kryteriów wyszukiwania za pomocą prostego języka wzorców.\n",
    "\n",
    "Wyrażenia regularne są szeroko stosowane w różnych językach programowania, w tym w Pythonie, do:\n",
    "\n",
    "- Wyszukiwania wzorców w tekście.\n",
    "- Walidacji danych (np. adresy e-mail, numery telefonów).\n",
    "- Zamiany fragmentów tekstu.\n",
    "- Parsowania danych.\n",
    "\n",
    "## 2. Podstawy wyrażeń regularnych\n",
    "\n",
    "Wyrażenia regularne składają się ze znaków i metaznaków, które razem tworzą wzorce dopasowania.\n",
    "\n",
    "### 2.1. Podstawowe metaznaki\n",
    "\n",
    "- `.` (kropka): Reprezentuje dowolny pojedynczy znak z wyjątkiem znaku nowej linii (`\\n`).\n",
    "- `^`: Dopasowuje początek linii.\n",
    "- `$`: Dopasowuje koniec linii.\n",
    "- `*`: Reprezentuje zero lub więcej wystąpień poprzedzającego znaku lub grupy.\n",
    "- `+`: Reprezentuje jedno lub więcej wystąpień poprzedzającego znaku lub grupy.\n",
    "- `?`: Reprezentuje zero lub jedno wystąpienie poprzedzającego znaku lub grupy.\n",
    "- `{n}`: Dokładnie n wystąpień poprzedzającego znaku lub grupy.\n",
    "- `{n,}`: Co najmniej n wystąpień.\n",
    "- `{n,m}`: Od n do m wystąpień.\n",
    "\n",
    "### 2.2. Grupy i klasy znaków\n",
    "\n",
    "- `[]`: Definiuje klasę znaków. Dopasowuje dowolny pojedynczy znak z podanego zbioru.\n",
    "  - Przykład: `[abc]` dopasuje `a`, `b` lub `c`.\n",
    "- `[^]`: Negacja klasy znaków. Dopasowuje dowolny znak NIE będący w zbiorze.\n",
    "  - Przykład: `[^abc]` dopasuje dowolny znak z wyjątkiem `a`, `b` lub `c`.\n",
    "- `()` : Definiuje grupę. Umożliwia grupowanie znaków lub wyrażeń.\n",
    "\n",
    "### 2.3. Sekwencje specjalne\n",
    "\n",
    "- `\\d`: Cyfra (równoważne `[0-9]`).\n",
    "- `\\D`: Nie-cyfra (równoważne `[^0-9]`).\n",
    "- `\\w`: Znak alfanumeryczny lub podkreślenie (równoważne `[a-zA-Z0-9_]`).\n",
    "- `\\W`: Nie-znak alfanumeryczny (równoważne `[^a-zA-Z0-9_]`).\n",
    "- `\\s`: Biały znak (spacja, tabulator, nowa linia).\n",
    "- `\\S`: Nie-biały znak.\n",
    "- `\\b`: Granica słowa.\n",
    "- `\\B`: Nie-granica słowa.\n",
    "\n",
    "### 2.4. Alternatywa i wybór\n",
    "\n",
    "- `|`: Operator alternatywy (lub). Pozwala na wybór między wieloma opcjami.\n",
    "  - Przykład: `Jan|Piotr` dopasuje `Jan` lub `Piotr`.\n",
    "\n",
    "## 3. Użycie wyrażeń regularnych w Pythonie\n",
    "\n",
    "Python udostępnia moduł `re`, który umożliwia pracę z wyrażeniami regularnymi.\n",
    "\n",
    "### 3.1. Importowanie modułu\n",
    "\n",
    "```python\n",
    "import re\n",
    "```\n",
    "\n",
    "### 3.2. Podstawowe funkcje modułu `re`\n",
    "\n",
    "- `re.search(pattern, string)`: Przeszukuje cały ciąg znaków w poszukiwaniu pierwszego wystąpienia wzorca.\n",
    "- `re.match(pattern, string)`: Sprawdza, czy wzorzec występuje na początku ciągu.\n",
    "- `re.findall(pattern, string)`: Zwraca listę wszystkich niepokrywających się dopasowań wzorca w ciągu.\n",
    "- `re.finditer(pattern, string)`: Zwraca iterator po wszystkich dopasowaniach.\n",
    "- `re.sub(pattern, repl, string)`: Zastępuje wszystkie wystąpienia wzorca w ciągu na podany ciąg `repl`.\n",
    "- `re.split(pattern, string)`: Dzieli ciąg na podstawie wzorca.\n",
    "\n",
    "### 3.3. Przykłady użycia\n",
    "\n",
    "#### 3.3.1. `re.search()`\n",
    "\n",
    "```python\n",
    "import re\n",
    "\n",
    "tekst = \"Kontakt: jan.kowalski@example.com\"\n",
    "wzorzec = r'\\w+@\\w+\\.\\w+'\n",
    "\n",
    "dopasowanie = re.search(wzorzec, tekst)\n",
    "if dopasowanie:\n",
    "    print(\"Znaleziono adres e-mail:\", dopasowanie.group())\n",
    "else:\n",
    "    print(\"Nie znaleziono adresu e-mail.\")\n",
    "```\n",
    "\n",
    "**Wyjaśnienie wzorca:**\n",
    "\n",
    "- `\\w+`: Jeden lub więcej znaków alfanumerycznych.\n",
    "- `@`: Znak `@`.\n",
    "- `\\w+`: Jeden lub więcej znaków alfanumerycznych.\n",
    "- `\\.`: Kropka (znak kropki musi być poprzedzony `\\`).\n",
    "- `\\w+`: Jeden lub więcej znaków alfanumerycznych.\n",
    "\n",
    "#### 3.3.2. `re.match()`\n",
    "\n",
    "```python\n",
    "import re\n",
    "\n",
    "tekst = \"Python jest wspaniały.\"\n",
    "wzorzec = r'Python'\n",
    "\n",
    "if re.match(wzorzec, tekst):\n",
    "    print(\"Tekst zaczyna się od 'Python'.\")\n",
    "else:\n",
    "    print(\"Tekst nie zaczyna się od 'Python'.\")\n",
    "```\n",
    "\n",
    "#### 3.3.3. `re.findall()`\n",
    "\n",
    "```python\n",
    "import re\n",
    "\n",
    "tekst = \"Adam ma 23 lata, Ewa ma 22 lata, a Jan ma 45 lat.\"\n",
    "wzorzec = r'\\d+'\n",
    "\n",
    "liczby = re.findall(wzorzec, tekst)\n",
    "print(\"Znalezione liczby:\", liczby)\n",
    "```\n",
    "\n",
    "**Wynik:**\n",
    "\n",
    "```\n",
    "Znalezione liczby: ['23', '22', '45']\n",
    "```\n",
    "\n",
    "#### 3.3.4. `re.sub()`\n",
    "\n",
    "```python\n",
    "import re\n",
    "\n",
    "tekst = \"To jest stara wersja pliku.\"\n",
    "wzorzec = r'stara'\n",
    "zamiennik = 'nowa'\n",
    "\n",
    "nowy_tekst = re.sub(wzorzec, zamiennik, tekst)\n",
    "print(nowy_tekst)\n",
    "```\n",
    "\n",
    "**Wynik:**\n",
    "\n",
    "```\n",
    "To jest nowa wersja pliku.\n",
    "```\n",
    "\n",
    "#### 3.3.5. `re.split()`\n",
    "\n",
    "```python\n",
    "import re\n",
    "\n",
    "tekst = \"Jan, Ewa, Piotr; Anna|Marek\"\n",
    "\n",
    "# Wzorzec do rozdzielenia na podstawie przecinka, średnika lub kreski pionowej\n",
    "wzorzec = r'[;,|]'\n",
    "\n",
    "imiona = re.split(wzorzec, tekst)\n",
    "print(imiona)\n",
    "```\n",
    "\n",
    "**Wynik:**\n",
    "\n",
    "```\n",
    "['Jan', ' Ewa', ' Piotr', ' Anna', 'Marek']\n",
    "```"
   ]
  },
  {
   "cell_type": "markdown",
   "id": "cfbd1f7c",
   "metadata": {},
   "source": [
    "## 4. Przykłady praktyczne\n",
    "\n",
    "### 4.1. Walidacja adresu e-mail"
   ]
  },
  {
   "cell_type": "code",
   "execution_count": 4,
   "id": "9fd67399",
   "metadata": {},
   "outputs": [
    {
     "name": "stdout",
     "output_type": "stream",
     "text": [
      "Poprawny adres e-mail.\n"
     ]
    }
   ],
   "source": [
    "import re\n",
    "\n",
    "def sprawdz_email(email):\n",
    "    wzorzec = r'^[\\w\\.-]+@[\\w\\.-]+\\.\\w{2,}$'\n",
    "    if re.match(wzorzec, email):\n",
    "        return True\n",
    "    else:\n",
    "        return False\n",
    "\n",
    "email = \"jan.kowalski@example.com\"\n",
    "if sprawdz_email(email):\n",
    "    print(\"Poprawny adres e-mail.\")\n",
    "else:\n",
    "    print(\"Niepoprawny adres e-mail.\")"
   ]
  },
  {
   "cell_type": "markdown",
   "id": "0d013ba3",
   "metadata": {},
   "source": [
    "### 4.2. Ekstrakcja numerów telefonów"
   ]
  },
  {
   "cell_type": "code",
   "execution_count": 5,
   "id": "e40fa446",
   "metadata": {},
   "outputs": [
    {
     "name": "stdout",
     "output_type": "stream",
     "text": [
      "Znalezione numery telefonów: ['123-456-789', '987 654 321']\n"
     ]
    }
   ],
   "source": [
    "import re\n",
    "\n",
    "tekst = \"Skontaktuj się z nami pod numerami: 123-456-789 lub 987 654 321.\"\n",
    "wzorzec = r'\\d{3}[- ]\\d{3}[- ]\\d{3}'\n",
    "\n",
    "numery = re.findall(wzorzec, tekst)\n",
    "print(\"Znalezione numery telefonów:\", numery)"
   ]
  },
  {
   "cell_type": "markdown",
   "id": "83ea7f18",
   "metadata": {},
   "source": [
    "### 4.3. Usuwanie komentarzy z kodu"
   ]
  },
  {
   "cell_type": "code",
   "execution_count": 8,
   "id": "5afbc26b",
   "metadata": {},
   "outputs": [
    {
     "name": "stdout",
     "output_type": "stream",
     "text": [
      "\n",
      "def funkcja():\n",
      "    \n",
      "    print(\"Hello World\")  \n",
      "\n"
     ]
    }
   ],
   "source": [
    "import re\n",
    "\n",
    "kod = '''\n",
    "def funkcja():\n",
    "    # To jest komentarz\n",
    "    print(\"Hello World\")  # Inny komentarz\n",
    "'''\n",
    "\n",
    "# Wzorzec do usunięcia komentarzy\n",
    "wzorzec = r'#.*'\n",
    "\n",
    "kod_bez_komentarzy = re.sub(wzorzec, '', kod)\n",
    "print(kod_bez_komentarzy)"
   ]
  },
  {
   "cell_type": "markdown",
   "id": "ec99f63e",
   "metadata": {},
   "source": [
    "## 5. Flagi w wyrażeniach regularnych\n",
    "\n",
    "Podczas korzystania z funkcji modułu `re`, można użyć flag, które zmieniają sposób działania wyrażeń regularnych.\n",
    "\n",
    "- `re.IGNORECASE` lub `re.I`: Ignoruje wielkość liter.\n",
    "- `re.MULTILINE` lub `re.M`: Zmienia zachowanie `^` i `$` tak, aby pasowały do początku i końca każdej linii, a nie tylko całego ciągu.\n",
    "- `re.DOTALL` lub `re.S`: Sprawia, że kropka `.` dopasowuje także znak nowej linii `\\n`.\n",
    "\n",
    "### 5.1. Przykład z flagą `re.IGNORECASE`"
   ]
  },
  {
   "cell_type": "code",
   "execution_count": 9,
   "id": "ff7ff07d",
   "metadata": {},
   "outputs": [
    {
     "name": "stdout",
     "output_type": "stream",
     "text": [
      "Znaleziono 'python' niezależnie od wielkości liter.\n"
     ]
    }
   ],
   "source": [
    "import re\n",
    "\n",
    "tekst = \"Python jest Wspaniały.\"\n",
    "wzorzec = r'python'\n",
    "\n",
    "if re.search(wzorzec, tekst, re.IGNORECASE):\n",
    "    print(\"Znaleziono 'python' niezależnie od wielkości liter.\")\n",
    "else:\n",
    "    print(\"Nie znaleziono 'python'.\")"
   ]
  },
  {
   "cell_type": "markdown",
   "id": "a280c35c",
   "metadata": {},
   "source": [
    "### 5.2. Przykład z flagą `re.MULTILINE`"
   ]
  },
  {
   "cell_type": "code",
   "execution_count": 10,
   "id": "9f98bc67",
   "metadata": {},
   "outputs": [
    {
     "name": "stdout",
     "output_type": "stream",
     "text": [
      "Dopasowania: ['To', 'To']\n"
     ]
    }
   ],
   "source": [
    "import re\n",
    "\n",
    "tekst = '''To jest pierwszy wiersz.\n",
    "To jest drugi wiersz.\n",
    "Trzeci wiersz tutaj.'''\n",
    "\n",
    "wzorzec = r'^To'\n",
    "\n",
    "dopasowania = re.findall(wzorzec, tekst, re.MULTILINE)\n",
    "print(\"Dopasowania:\", dopasowania)"
   ]
  },
  {
   "cell_type": "markdown",
   "id": "656e6d8b",
   "metadata": {},
   "source": [
    "## 6. Grupy i odwołania wsteczne\n",
    "\n",
    "Grupy pozwalają na przechwytywanie fragmentów dopasowań.\n",
    "\n",
    "### 6.1. Grupy\n",
    "\n",
    "- `(pattern)`: Definiuje grupę.\n",
    "- Można odwołać się do grupy za pomocą `group(n)`, gdzie `n` to numer grupy (pierwsza grupa ma numer 1).\n",
    "\n",
    "#### Przykład"
   ]
  },
  {
   "cell_type": "code",
   "execution_count": 11,
   "id": "d8af2ba1",
   "metadata": {},
   "outputs": [
    {
     "name": "stdout",
     "output_type": "stream",
     "text": [
      "Imię: Jan, Nazwisko: Kowalski, Wiek: 30\n"
     ]
    }
   ],
   "source": [
    "import re\n",
    "\n",
    "tekst = \"Jan Kowalski, 30 lat\"\n",
    "wzorzec = r'(\\w+) (\\w+), (\\d{2}) lat'\n",
    "\n",
    "dopasowanie = re.search(wzorzec, tekst)\n",
    "if dopasowanie:\n",
    "    imie = dopasowanie.group(1)\n",
    "    nazwisko = dopasowanie.group(2)\n",
    "    wiek = dopasowanie.group(3)\n",
    "    print(f\"Imię: {imie}, Nazwisko: {nazwisko}, Wiek: {wiek}\")"
   ]
  },
  {
   "cell_type": "markdown",
   "id": "40141a7f",
   "metadata": {},
   "source": [
    "### 6.2. Nazwane grupy\n",
    "\n",
    "Można nadać nazwę grupie za pomocą `(?P<name>pattern)`.\n",
    "\n",
    "#### Przykład"
   ]
  },
  {
   "cell_type": "code",
   "execution_count": 12,
   "id": "63f71919",
   "metadata": {},
   "outputs": [
    {
     "name": "stdout",
     "output_type": "stream",
     "text": [
      "Produkt: ABC123, Cena: 19.99 PLN\n"
     ]
    }
   ],
   "source": [
    "import re\n",
    "\n",
    "tekst = \"Produkt: ABC123, Cena: 19.99 PLN\"\n",
    "wzorzec = r'Produkt: (?P<produkt>\\w+), Cena: (?P<cena>\\d+\\.\\d{2}) PLN'\n",
    "\n",
    "dopasowanie = re.search(wzorzec, tekst)\n",
    "if dopasowanie:\n",
    "    produkt = dopasowanie.group('produkt')\n",
    "    cena = dopasowanie.group('cena')\n",
    "    print(f\"Produkt: {produkt}, Cena: {cena} PLN\")"
   ]
  },
  {
   "cell_type": "markdown",
   "id": "fa48e3f9",
   "metadata": {},
   "source": [
    "\n",
    "\n",
    "### 6.3. Odwołania wsteczne\n",
    "\n",
    "Pozwalają na dopasowanie wzorca na podstawie wcześniej zdefiniowanej grupy.\n",
    "\n",
    "#### Przykład: Dopasowanie powtarzających się słów"
   ]
  },
  {
   "cell_type": "code",
   "execution_count": 7,
   "id": "7bbe9b58",
   "metadata": {},
   "outputs": [
    {
     "name": "stdout",
     "output_type": "stream",
     "text": [
      "Znaleziono powtórzone słowo: jest\n"
     ]
    }
   ],
   "source": [
    "\n",
    "import re\n",
    "\n",
    "tekst = \"To jest jest test.\"\n",
    "wzorzec = r'\\b(\\w+)\\s+\\1\\b'\n",
    "\n",
    "dopasowanie = re.search(wzorzec, tekst)\n",
    "if dopasowanie:\n",
    "    powtorzone_slowo = dopasowanie.group(1)\n",
    "    print(f\"Znaleziono powtórzone słowo: {powtorzone_slowo}\")\n",
    "else:\n",
    "    print(\"Nie znaleziono powtórzonych słów.\")\n"
   ]
  },
  {
   "cell_type": "markdown",
   "id": "3045ffe7",
   "metadata": {},
   "source": [
    "## 7. Przydatne wskazówki\n",
    "\n",
    "### 7.1. Surowe łańcuchy znaków (`r''`)\n",
    "\n",
    "Podczas definiowania wzorców, zaleca się używanie surowych łańcuchów znaków, poprzedzając je literą `r`. Dzięki temu unikamy konieczności podwójnego ucieczki znaków specjalnych.\n",
    "\n",
    "**Przykład:**\n",
    "\n",
    "```python\n",
    "wzorzec = r'\\d+\\.\\d{2}'\n",
    "```\n",
    "\n",
    "Zamiast:\n",
    "\n",
    "```python\n",
    "wzorzec = '\\\\d+\\\\.\\\\d{2}'\n",
    "```\n",
    "\n",
    "### 7.2. Testowanie wzorców online\n",
    "\n",
    "Istnieją narzędzia online, które pozwalają na interaktywne testowanie wyrażeń regularnych, np.:\n",
    "\n",
    "- https://regex101.com/\n",
    "- https://regexr.com/\n",
    "\n",
    "### 7.3. Dokumentacja modułu `re`\n",
    "\n",
    "Oficjalna dokumentacja modułu `re` w Pythonie zawiera szczegółowe informacje i dodatkowe funkcje:\n",
    "\n",
    "- https://docs.python.org/3/library/re.html"
   ]
  },
  {
   "cell_type": "code",
   "execution_count": null,
   "id": "a0ed8b87",
   "metadata": {},
   "outputs": [],
   "source": []
  }
 ],
 "metadata": {
  "kernelspec": {
   "display_name": "Python 3 (ipykernel)",
   "language": "python",
   "name": "python3"
  },
  "language_info": {
   "codemirror_mode": {
    "name": "ipython",
    "version": 3
   },
   "file_extension": ".py",
   "mimetype": "text/x-python",
   "name": "python",
   "nbconvert_exporter": "python",
   "pygments_lexer": "ipython3",
   "version": "3.10.7"
  },
  "toc": {
   "base_numbering": 1,
   "nav_menu": {},
   "number_sections": true,
   "sideBar": true,
   "skip_h1_title": false,
   "title_cell": "Table of Contents",
   "title_sidebar": "Contents",
   "toc_cell": false,
   "toc_position": {},
   "toc_section_display": true,
   "toc_window_display": false
  }
 },
 "nbformat": 4,
 "nbformat_minor": 5
}
